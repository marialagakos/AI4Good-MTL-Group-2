{
 "cells": [
  {
   "cell_type": "code",
   "execution_count": null,
   "id": "6d79e47d",
   "metadata": {},
   "outputs": [],
   "source": [
    "import sys\n",
    "import os\n",
    "\n",
    "# Add the *parent* directory of `models`, not `models` itself\n",
    "project_root = os.path.abspath(r'C:\\Users\\PC\\Desktop\\AI4Good - Brain Project\\AI4Good-MTL-Group-2\\scripts\\v2-strass-branch')\n",
    "if project_root not in sys.path:\n",
    "    sys.path.insert(0, project_root)\n",
    "\n",
    "# Now import\n",
    "from experiments.experiment_runner import ExperimentRunner"
   ]
  }
 ],
 "metadata": {
  "kernelspec": {
   "display_name": "brain-env",
   "language": "python",
   "name": "python3"
  },
  "language_info": {
   "name": "python",
   "version": "3.11.9"
  }
 },
 "nbformat": 4,
 "nbformat_minor": 5
}
