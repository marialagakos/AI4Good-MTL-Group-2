{
 "cells": [
  {
   "cell_type": "code",
   "execution_count": 1,
   "id": "9f40c832",
   "metadata": {},
   "outputs": [
    {
     "name": "stderr",
     "output_type": "stream",
     "text": [
      "usage: ipykernel_launcher.py [-h] --config CONFIG --experiment EXPERIMENT\n",
      "                             --subjects SUBJECTS [SUBJECTS ...]\n",
      "                             [--output OUTPUT] [--plot]\n",
      "ipykernel_launcher.py: error: the following arguments are required: --config, --experiment, --subjects\n"
     ]
    },
    {
     "ename": "SystemExit",
     "evalue": "2",
     "output_type": "error",
     "traceback": [
      "An exception has occurred, use %tb to see the full traceback.\n",
      "\u001b[31mSystemExit\u001b[39m\u001b[31m:\u001b[39m 2\n"
     ]
    },
    {
     "name": "stderr",
     "output_type": "stream",
     "text": [
      "c:\\Users\\PC\\Desktop\\AI4Good - Brain Project\\AI4Good-MTL-Group-2\\brain-env\\Lib\\site-packages\\IPython\\core\\interactiveshell.py:3680: UserWarning: To exit: use 'exit', 'quit', or Ctrl-D.\n",
      "  warn(\"To exit: use 'exit', 'quit', or Ctrl-D.\", stacklevel=1)\n"
     ]
    }
   ],
   "source": [
    "# main.py\n",
    "#!/usr/bin/env python3\n",
    "\"\"\"\n",
    "Main script for running multimodal fMRI stimulus prediction experiments\n",
    "\"\"\"\n",
    "\n",
    "import argparse\n",
    "from pathlib import Path\n",
    "import yaml\n",
    "import sys\n",
    "import os\n",
    "sys.path.append(os.path.abspath(r'C:\\Users\\PC\\Desktop\\AI4Good - Brain Project\\AI4Good-MTL-Group-2\\scripts\\v2-strass-branch'))\n",
    "from experiments.experiment_runner import ExperimentRunner\n",
    "#from utils.visualization import plot_results\n",
    "#from utils.io_utils import setup_directories\n",
    "\n",
    "def main():\n",
    "    parser = argparse.ArgumentParser(description='Run fMRI stimulus prediction experiments')\n",
    "    parser.add_argument('--config', type=str, required=True, help='Path to experiment config file')\n",
    "    parser.add_argument('--experiment', type=str, required=True, help='Experiment name to run')\n",
    "    parser.add_argument('--subjects', type=str, nargs='+', required=True, help='Subject IDs to include')\n",
    "    parser.add_argument('--output', type=str, default='results', help='Output directory')\n",
    "    parser.add_argument('--plot', action='store_true', help='Generate plots')\n",
    "    \n",
    "    args = parser.parse_args()\n",
    "    \n",
    "    # Setup directories\n",
    "    output_dir = Path(args.output)\n",
    "    #setup_directories(output_dir)\n",
    "    \n",
    "    # Run experiment\n",
    "    runner = ExperimentRunner(args.config)\n",
    "    results = runner.run_experiment(args.experiment, args.subjects)\n",
    "    \n",
    "    # Save results\n",
    "    results_file = output_dir / f\"{args.experiment}_results.json\"\n",
    "    runner.save_experiment_results(results, str(results_file))\n",
    "    \n",
    "    # Print summary\n",
    "    print(\"\\n\" + \"=\"*50)\n",
    "    print(\"EXPERIMENT SUMMARY\")\n",
    "    print(\"=\"*50)\n",
    "    print(f\"Best Classifier: {results['summary']['best_classifier']}\")\n",
    "    print(f\"Best Accuracy: {results['summary']['best_accuracy']:.4f}\")\n",
    "    print(\"\\nRanking:\")\n",
    "    for i, clf in enumerate(results['summary']['classifier_ranking']):\n",
    "        print(f\"{i+1}. {clf['classifier']}: {clf['mean_accuracy']:.4f} ± {clf['std_accuracy']:.4f}\")\n",
    "    \n",
    "    # Generate plots if requested\n",
    "    #if args.plot:\n",
    "        #plot_results(results, output_dir)\n",
    "        #print(f\"\\nPlots saved to: {output_dir}\")\n",
    "\n",
    "if __name__ == \"__main__\":\n",
    "    main()"
   ]
  }
 ],
 "metadata": {
  "kernelspec": {
   "display_name": "brain-env",
   "language": "python",
   "name": "python3"
  },
  "language_info": {
   "codemirror_mode": {
    "name": "ipython",
    "version": 3
   },
   "file_extension": ".py",
   "mimetype": "text/x-python",
   "name": "python",
   "nbconvert_exporter": "python",
   "pygments_lexer": "ipython3",
   "version": "3.11.9"
  }
 },
 "nbformat": 4,
 "nbformat_minor": 5
}
