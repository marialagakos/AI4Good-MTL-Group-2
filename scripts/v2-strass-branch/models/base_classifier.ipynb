{
 "cells": [
  {
   "cell_type": "code",
   "execution_count": 1,
   "id": "d3c3e27e",
   "metadata": {},
   "outputs": [],
   "source": [
    "# models/base_classifier.py\n",
    "from abc import ABC, abstractmethod\n",
    "from typing import Dict, Any, Tuple\n",
    "import numpy as np\n",
    "from sklearn.base import BaseEstimator\n",
    "\n",
    "class BaseClassifier(ABC, BaseEstimator):\n",
    "    \"\"\"Abstract base class for all classifiers\"\"\"\n",
    "    \n",
    "    def __init__(self, config: Dict[str, Any]):\n",
    "        self.config = config\n",
    "        self.model = None\n",
    "        self.is_fitted = False\n",
    "        \n",
    "    @abstractmethod\n",
    "    def fit(self, X: np.ndarray, y: np.ndarray) -> 'BaseClassifier':\n",
    "        \"\"\"Train the classifier\"\"\"\n",
    "        pass\n",
    "        \n",
    "    @abstractmethod\n",
    "    def predict(self, X: np.ndarray) -> np.ndarray:\n",
    "        \"\"\"Make predictions\"\"\"\n",
    "        pass\n",
    "        \n",
    "    @abstractmethod\n",
    "    def predict_proba(self, X: np.ndarray) -> np.ndarray:\n",
    "        \"\"\"Return prediction probabilities\"\"\"\n",
    "        pass\n",
    "        \n",
    "    @abstractmethod\n",
    "    def get_feature_importance(self) -> np.ndarray:\n",
    "        \"\"\"Return feature importance scores\"\"\"\n",
    "        pass\n",
    "        \n",
    "    def get_params(self, deep: bool = True) -> Dict[str, Any]:\n",
    "        \"\"\"Get classifier parameters\"\"\"\n",
    "        return self.config\n",
    "        \n",
    "    def set_params(self, **params) -> 'BaseClassifier':\n",
    "        \"\"\"Set classifier parameters\"\"\"\n",
    "        self.config.update(params)\n",
    "        return self"
   ]
  }
 ],
 "metadata": {
  "kernelspec": {
   "display_name": "brain-env",
   "language": "python",
   "name": "python3"
  },
  "language_info": {
   "codemirror_mode": {
    "name": "ipython",
    "version": 3
   },
   "file_extension": ".py",
   "mimetype": "text/x-python",
   "name": "python",
   "nbconvert_exporter": "python",
   "pygments_lexer": "ipython3",
   "version": "3.11.9"
  }
 },
 "nbformat": 4,
 "nbformat_minor": 5
}
