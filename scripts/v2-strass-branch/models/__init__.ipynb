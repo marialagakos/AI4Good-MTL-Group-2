{
 "cells": [
  {
   "cell_type": "code",
   "execution_count": null,
   "id": "efa190ef",
   "metadata": {},
   "outputs": [],
   "source": [
    "# models/__init__.py\n",
    "from typing import Dict, Any\n",
    "from .base_classifier import BaseClassifier\n",
    "from models.classical.svm import SVMClassifier\n",
    "from models.classical.random_forest import RandomForestClassifier\n",
    "from models.classical.logistic_regression import LogisticRegressionClassifier\n",
    "from models.neural.mlp import MLPClassifier\n",
    "from models.neural.cnn import CNNClassifier\n",
    "from models.neural.lstm import LSTMClassifier\n",
    "from models.neural.transformer import TransformerClassifier\n",
    "from models.neural.attention import SelfAttentionClassifier  # ← Added\n",
    "#(Need MLP?)\n",
    "\n",
    "class ClassifierFactory:\n",
    "    \"\"\"Factory for creating different classifier instances\"\"\"\n",
    "    \n",
    "    _classifiers = {\n",
    "        'svm': SVMClassifier,\n",
    "        'random_forest': RandomForestClassifier,\n",
    "        'logistic_regression': LogisticRegressionClassifier,\n",
    "        'mlp': MLPClassifier,\n",
    "        'cnn': CNNClassifier,\n",
    "        'lstm': LSTMClassifier,\n",
    "        'transformer': TransformerClassifier,\n",
    "        'self_attention': SelfAttentionClassifier,  # ← Added \n",
    "        #(Need MLP?)\n",
    "    }\n",
    "    \n",
    "    @classmethod\n",
    "    def create_classifier(cls, classifier_type: str, config: Dict[str, Any]) -> BaseClassifier:\n",
    "        \"\"\"Create a classifier instance\"\"\"\n",
    "        if classifier_type not in cls._classifiers:\n",
    "            raise ValueError(f\"Unknown classifier type: {classifier_type}\")\n",
    "        \n",
    "        return cls._classifiers[classifier_type](config)\n",
    "    \n",
    "    @classmethod\n",
    "    def get_available_classifiers(cls) -> list:\n",
    "        \"\"\"Get list of available classifier types\"\"\"\n",
    "        return list(cls._classifiers.keys())"
   ]
  }
 ],
 "metadata": {
  "language_info": {
   "name": "python"
  }
 },
 "nbformat": 4,
 "nbformat_minor": 5
}
