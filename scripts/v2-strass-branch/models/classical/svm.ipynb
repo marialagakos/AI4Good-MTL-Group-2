{
 "cells": [
  {
   "cell_type": "code",
   "execution_count": 1,
   "id": "b1e7bc26",
   "metadata": {},
   "outputs": [
    {
     "ename": "ModuleNotFoundError",
     "evalue": "No module named 'models'",
     "output_type": "error",
     "traceback": [
      "\u001b[31m---------------------------------------------------------------------------\u001b[39m",
      "\u001b[31mModuleNotFoundError\u001b[39m                       Traceback (most recent call last)",
      "\u001b[36mCell\u001b[39m\u001b[36m \u001b[39m\u001b[32mIn[1]\u001b[39m\u001b[32m, line 8\u001b[39m\n\u001b[32m      5\u001b[39m \u001b[38;5;28;01mimport\u001b[39;00m\u001b[38;5;250m \u001b[39m\u001b[34;01mnumpy\u001b[39;00m\u001b[38;5;250m \u001b[39m\u001b[38;5;28;01mas\u001b[39;00m\u001b[38;5;250m \u001b[39m\u001b[34;01mnp\u001b[39;00m\n\u001b[32m      6\u001b[39m \u001b[38;5;28;01mfrom\u001b[39;00m\u001b[38;5;250m \u001b[39m\u001b[34;01mtyping\u001b[39;00m\u001b[38;5;250m \u001b[39m\u001b[38;5;28;01mimport\u001b[39;00m Dict, Any\n\u001b[32m----> \u001b[39m\u001b[32m8\u001b[39m \u001b[38;5;28;01mfrom\u001b[39;00m\u001b[38;5;250m \u001b[39m\u001b[34;01mmodels\u001b[39;00m\u001b[34;01m.\u001b[39;00m\u001b[34;01mbase_classifier\u001b[39;00m\u001b[38;5;250m \u001b[39m\u001b[38;5;28;01mimport\u001b[39;00m BaseClassifier\n\u001b[32m     10\u001b[39m \u001b[38;5;28;01mclass\u001b[39;00m\u001b[38;5;250m \u001b[39m\u001b[34;01mSVMClassifier\u001b[39;00m(BaseClassifier):\n\u001b[32m     11\u001b[39m \u001b[38;5;250m    \u001b[39m\u001b[33;03m\"\"\"Support Vector Machine classifier\"\"\"\u001b[39;00m\n",
      "\u001b[31mModuleNotFoundError\u001b[39m: No module named 'models'"
     ]
    }
   ],
   "source": [
    "# models/classical/svm.py\n",
    "from sklearn.svm import SVC\n",
    "from sklearn.preprocessing import StandardScaler\n",
    "from sklearn.pipeline import Pipeline\n",
    "import numpy as np\n",
    "from typing import Dict, Any\n",
    "\n",
    "from models.base_classifier import BaseClassifier\n",
    "\n",
    "class SVMClassifier(BaseClassifier):\n",
    "    \"\"\"Support Vector Machine classifier\"\"\"\n",
    "    \n",
    "    def __init__(self, config: Dict[str, Any]):\n",
    "        super().__init__(config)\n",
    "        self.scaler = StandardScaler()\n",
    "        \n",
    "    def fit(self, X: np.ndarray, y: np.ndarray) -> 'SVMClassifier':\n",
    "        \"\"\"Train SVM classifier\"\"\"\n",
    "        # Create pipeline with scaling\n",
    "        self.model = Pipeline([\n",
    "            ('scaler', StandardScaler()),\n",
    "            ('svm', SVC(\n",
    "                C=self.config.get('C', 1.0),\n",
    "                kernel=self.config.get('kernel', 'rbf'),\n",
    "                gamma=self.config.get('gamma', 'scale'),\n",
    "                probability=True,\n",
    "                random_state=self.config.get('random_state', 42)\n",
    "            ))\n",
    "        ])\n",
    "        \n",
    "        self.model.fit(X, y)\n",
    "        self.is_fitted = True\n",
    "        return self\n",
    "    \n",
    "    def predict(self, X: np.ndarray) -> np.ndarray:\n",
    "        \"\"\"Make predictions\"\"\"\n",
    "        if not self.is_fitted:\n",
    "            raise RuntimeError(\"Model must be fitted before making predictions\")\n",
    "        return self.model.predict(X)\n",
    "    \n",
    "    def predict_proba(self, X: np.ndarray) -> np.ndarray:\n",
    "        \"\"\"Return prediction probabilities\"\"\"\n",
    "        if not self.is_fitted:\n",
    "            raise RuntimeError(\"Model must be fitted before making predictions\")\n",
    "        return self.model.predict_proba(X)\n",
    "    \n",
    "    def get_feature_importance(self) -> np.ndarray:\n",
    "        \"\"\"Return feature importance (SVM doesn't have built-in importance)\"\"\"\n",
    "        if not self.is_fitted:\n",
    "            raise RuntimeError(\"Model must be fitted before getting feature importance\")\n",
    "        \n",
    "        # For SVM, return absolute values of support vectors' weights\n",
    "        svm_model = self.model.named_steps['svm']\n",
    "        if hasattr(svm_model, 'coef_'):\n",
    "            return np.abs(svm_model.coef_[0])\n",
    "        else:\n",
    "            # For non-linear kernels, return zeros\n",
    "            return np.zeros(self.model.named_steps['scaler'].n_features_in_)"
   ]
  }
 ],
 "metadata": {
  "kernelspec": {
   "display_name": "brain-env",
   "language": "python",
   "name": "python3"
  },
  "language_info": {
   "codemirror_mode": {
    "name": "ipython",
    "version": 3
   },
   "file_extension": ".py",
   "mimetype": "text/x-python",
   "name": "python",
   "nbconvert_exporter": "python",
   "pygments_lexer": "ipython3",
   "version": "3.11.9"
  }
 },
 "nbformat": 4,
 "nbformat_minor": 5
}
